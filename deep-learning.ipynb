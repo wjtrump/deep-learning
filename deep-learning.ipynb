{
 "cells": [
  {
   "cell_type": "code",
   "execution_count": 1,
   "id": "40b4595e-aa6f-4d89-9c2f-562e937d71f8",
   "metadata": {},
   "outputs": [],
   "source": [
    "import os\n",
    "import json\n",
    "from PIL import Image\n",
    "import torch\n",
    "from torchvision import transforms\n",
    "import torch\n",
    "from transformers import BertModel, BertTokenizer\n",
    "import clip\n",
    "from PIL import Image\n",
    "image_folder = 'C:\\\\Users\\\\wjw\\\\Desktop\\\\111\\\\hateful_memes\\\\img\\\\'  # 图像文件夹路径\n",
    "json_file = 'test_seen.jsonl'  # JSON文件路径列表\n",
    "# 存储所有图像、文本和标签\n",
    "images = []\n",
    "texts = []\n",
    "labels = []\n",
    "image_paths = []\n",
    "Id=[]\n",
    "# 遍历每个JSON文件\n",
    "with open(json_file, 'r') as f:\n",
    "        data = [json.loads(line) for line in f]\n",
    "        for entry in data:\n",
    "            img_name = entry['img']  # 获取图像路径\n",
    "            img_path = img_name.replace('img/','img//')\n",
    "            iid=img_name.replace('png','').replace('img/','')\n",
    "            if os.path.isfile(img_path):\n",
    "                try:\n",
    "                    img = Image.open(img_path).convert('RGB')  # 确保图像为RGB格式\n",
    "                    images.append(img)\n",
    "                    texts.append(entry['text'])                # 存储对应文本\n",
    "                    labels.append(entry['label'])               # 存储标签\n",
    "                    image_paths.append(img_path)\n",
    "                    Id.append(iid)\n",
    "                except Exception as e:\n",
    "                    print(f'Error loading image {img_path}: {e}')"
   ]
  },
  {
   "cell_type": "code",
   "execution_count": 2,
   "id": "d7c0cf63-a480-4a64-aa76-ce27e579be33",
   "metadata": {},
   "outputs": [
    {
     "name": "stderr",
     "output_type": "stream",
     "text": [
      "C:\\Users\\wjw\\AppData\\Local\\Programs\\Python\\Python312\\Lib\\site-packages\\transformers\\models\\vit\\feature_extraction_vit.py:28: FutureWarning: The class ViTFeatureExtractor is deprecated and will be removed in version 5 of Transformers. Please use ViTImageProcessor instead.\n",
      "  warnings.warn(\n",
      "Some weights of ViTModel were not initialized from the model checkpoint at WinKawaks/vit-small-patch16-224 and are newly initialized: ['vit.pooler.dense.bias', 'vit.pooler.dense.weight']\n",
      "You should probably TRAIN this model on a down-stream task to be able to use it for predictions and inference.\n"
     ]
    },
    {
     "name": "stdout",
     "output_type": "stream",
     "text": [
      "torch.Size([815, 197, 384])\n"
     ]
    }
   ],
   "source": [
    "import torch\n",
    "from torchvision import transforms\n",
    "from transformers import AutoFeatureExtractor, AutoModel\n",
    "from transformers import ViTModel, ViTFeatureExtractor\n",
    "\n",
    "feature_extractor1 = ViTFeatureExtractor.from_pretrained(\"WinKawaks/vit-small-patch16-224\")\n",
    "model1 = ViTModel.from_pretrained(\"WinKawaks/vit-small-patch16-224\")\n",
    "device = torch.device(\"cuda\" if torch.cuda.is_available() else \"cpu\")\n",
    "inputs1 = feature_extractor1(images=images, return_tensors=\"pt\")\n",
    "model1.to(device)\n",
    "model1.eval()\n",
    "with torch.no_grad():\n",
    "   outputs1 = model1(**inputs1)\n",
    "   last_hidden_state1 = outputs1.last_hidden_state\n",
    "print(last_hidden_state1.shape)# 获取特征表示"
   ]
  },
  {
   "cell_type": "code",
   "execution_count": 3,
   "id": "8408a2c6-1c99-4555-b749-c487242a1d1a",
   "metadata": {},
   "outputs": [],
   "source": [
    "from transformers import BertModel, BertTokenizer\n",
    "\n",
    "# 加载预训练的BERT模型和分词器，这里以'bert-base-uncased'为例\n",
    "model_name = 'bert-base-uncased'\n",
    "tokenizer = BertTokenizer.from_pretrained(model_name)\n",
    "model = BertModel.from_pretrained(model_name)\n",
    "\n",
    "# 将模型设置为评估模式，这一步很关键，它会关闭一些在训练时才需要的操作，比如Dropout等\n",
    "model.eval()\n",
    "encoded_inputs = tokenizer(texts, padding=True, truncation=True, return_tensors='pt')"
   ]
  },
  {
   "cell_type": "code",
   "execution_count": 4,
   "id": "c16ff63c-768b-48de-b07d-96200454bed3",
   "metadata": {},
   "outputs": [],
   "source": [
    "with torch.no_grad():  # 禁用梯度计算，因为只是获取特征，不需要进行反向传播和参数更新\n",
    "    outputs1 = model(**encoded_inputs)\n",
    "    text_features = outputs1.last_hidden_state"
   ]
  },
  {
   "cell_type": "code",
   "execution_count": 280,
   "id": "fbb7e977-8061-45f2-84bf-fe7c6941b6f5",
   "metadata": {},
   "outputs": [],
   "source": [
    "def set_seed(seed):\n",
    "    torch.manual_seed(seed)\n",
    "    torch.cuda.manual_seed_all(seed)\n",
    "    np.random.seed(seed)\n",
    "    random.seed(seed)\n",
    "    torch.backends.cudnn.deterministic = True\n",
    "    torch.backends.cudnn.benchmark = False\n",
    "set_seed(42)"
   ]
  },
  {
   "cell_type": "code",
   "execution_count": 281,
   "id": "0ec07448-38b3-476d-b07f-55ec4a3de34a",
   "metadata": {},
   "outputs": [],
   "source": [
    "x=last_hidden_state1.reshape(last_hidden_state1.size(0), -1)"
   ]
  },
  {
   "cell_type": "code",
   "execution_count": 282,
   "id": "c7cefdb3-1aa0-4e46-9d5d-2bd5c95d40b3",
   "metadata": {},
   "outputs": [],
   "source": [
    "x1=text_features.reshape(text_features.size(0), -1)"
   ]
  },
  {
   "cell_type": "code",
   "execution_count": 283,
   "id": "da32cdae-6de2-4b97-9b1b-74ffa573b3a8",
   "metadata": {},
   "outputs": [
    {
     "data": {
      "text/plain": [
       "torch.Size([815, 75648])"
      ]
     },
     "execution_count": 283,
     "metadata": {},
     "output_type": "execute_result"
    }
   ],
   "source": [
    "x.shape"
   ]
  },
  {
   "cell_type": "code",
   "execution_count": 284,
   "id": "19b7845f-453f-4e96-ae85-a65b50eebb9f",
   "metadata": {},
   "outputs": [
    {
     "data": {
      "text/plain": [
       "torch.Size([815, 56832])"
      ]
     },
     "execution_count": 284,
     "metadata": {},
     "output_type": "execute_result"
    }
   ],
   "source": [
    "x1.shape"
   ]
  },
  {
   "cell_type": "code",
   "execution_count": 285,
   "id": "da8d308f-87c4-4d1f-8d72-931fd0800fb3",
   "metadata": {},
   "outputs": [],
   "source": [
    "import torch\n",
    "import torch.nn as nn\n",
    "\n",
    "class MultipleLinearTransform(nn.Module):\n",
    "    def __init__(self, input_dim, num_transforms):\n",
    "        super(MultipleLinearTransform, self).__init__()\n",
    "        # 定义线性层\n",
    "        self.linear = nn.Linear(input_dim, input_dim)\n",
    "        # 定义变换的次数\n",
    "        self.num_transforms = num_transforms\n",
    "\n",
    "    def forward(self, x):\n",
    "        # 初始化累加结果\n",
    "        total_result = torch.zeros_like(x)\n",
    "        current_input = x\n",
    "        for _ in range(self.num_transforms):\n",
    "            # 进行线性变换\n",
    "            transformed = self.linear(current_input)\n",
    "            # 累加结果\n",
    "            total_result += transformed\n",
    "            # 更新当前输入\n",
    "            current_input = transformed\n",
    "        return total_result\n",
    "\n",
    "\n",
    "class DualNetwork(nn.Module):\n",
    "    def __init__(self, features_dim1, features_dim2, inflect_dim, num_transforms):\n",
    "        super(DualNetwork, self).__init__()\n",
    "        # 定义两个单层网络\n",
    "        self.model1 = nn.Linear(features_dim1, inflect_dim)  # 第一个网络\n",
    "        self.model2 = nn.Linear(features_dim2, inflect_dim)  # 第二个网络\n",
    "        self.transform = MultipleLinearTransform(inflect_dim, num_transforms)\n",
    "\n",
    "    def forward(self, x1, x2):\n",
    "        # 前向传播\n",
    "        output1 = self.model1(x1)\n",
    "        output2 = self.model2(x2)\n",
    "\n",
    "        # 使用 MultipleLinearTransform 进行多次线性变换并求和\n",
    "        sum_result1 = self.transform(output1)\n",
    "        sum_result2 = self.transform(output2)\n",
    "\n",
    "        # 标准化输出\n",
    "        standardized_output1 = self.standardize(sum_result1)\n",
    "        standardized_output2 = self.standardize(sum_result2)\n",
    "\n",
    "        # 计算标准化后的点积\n",
    "        dot_product = torch.matmul(standardized_output1, standardized_output2.T)\n",
    "        return dot_product,sum_result1,sum_result2\n",
    "\n",
    "    def standardize(self, tensor):\n",
    "        # 标准化函数\n",
    "        mean = tensor.mean(dim=0, keepdim=True)\n",
    "        std = tensor.std(dim=0, keepdim=True)\n",
    "        std = torch.clamp(std, min=1e-8)  # 避免除零错误\n",
    "        return (tensor - mean) / std"
   ]
  },
  {
   "cell_type": "code",
   "execution_count": 286,
   "id": "fa4d0dac-27a8-42f8-bd82-754024ecf76d",
   "metadata": {},
   "outputs": [
    {
     "name": "stdout",
     "output_type": "stream",
     "text": [
      "模型推理结果: (tensor([[ 4.5134e+02,  3.1725e+02, -6.4310e+01,  ...,  8.9610e+00,\n",
      "          1.7261e+02, -1.5789e+02],\n",
      "        [ 1.9184e+02,  2.5513e+02,  4.1967e+00,  ..., -1.1964e+01,\n",
      "          3.3775e+01, -5.6225e+01],\n",
      "        [-2.6910e+01,  5.5510e+01,  3.7817e+02,  ...,  1.8870e+02,\n",
      "         -1.7032e-01, -3.8109e+01],\n",
      "        ...,\n",
      "        [ 3.8513e+01,  5.4067e+01,  2.1033e+02,  ...,  3.1428e+02,\n",
      "          1.3186e+02, -1.1612e+01],\n",
      "        [ 1.4617e+02,  1.2648e+02, -2.1619e+01,  ...,  1.0221e+02,\n",
      "          5.0787e+02, -2.1435e+02],\n",
      "        [-1.3078e+02, -1.2651e+02, -7.1087e+01,  ..., -4.6604e+01,\n",
      "         -1.8374e+02,  3.0316e+02]]), tensor([[-27.4376,  10.6988,  -7.3310,  ..., -37.6511,  47.4127,  35.0639],\n",
      "        [-37.0884,  23.0469, -15.5403,  ..., -37.8338,  36.8927,  37.2083],\n",
      "        [-42.8019,  20.4881, -27.5798,  ..., -46.1525,  39.5579,  31.0815],\n",
      "        ...,\n",
      "        [-28.3854,  16.7170, -14.3914,  ..., -41.6562,  45.1141,  28.6936],\n",
      "        [-32.9315,  22.4189, -14.6953,  ..., -39.5702,  34.3082,  41.7446],\n",
      "        [-22.3429,  15.5047, -23.4356,  ..., -22.6905,  37.7148,  30.6731]]), tensor([[-32.9003,  16.6009, -13.7579,  ..., -35.9645,  47.5494,  36.8248],\n",
      "        [-30.1950,  20.1136, -15.7978,  ..., -34.9654,  46.8548,  36.6100],\n",
      "        [-37.9747,  17.9174, -20.8809,  ..., -43.9098,  44.2040,  32.6983],\n",
      "        ...,\n",
      "        [-33.6196,  17.2446, -15.7445,  ..., -40.8086,  43.2029,  29.2055],\n",
      "        [-36.7273,  20.8093, -13.5216,  ..., -36.6475,  42.0543,  39.7544],\n",
      "        [-23.4436,  15.5968, -26.7690,  ..., -25.0199,  39.8749,  32.8399]]))\n"
     ]
    }
   ],
   "source": [
    "import torch\n",
    "\n",
    "torch.serialization.add_safe_globals([DualNetwork])\n",
    "model = torch.load('entire_simple_model2.pth', weights_only=False)\n",
    "\n",
    "# 将模型设置为评估模式（如果是用于推理）\n",
    "model.eval()\n",
    "\n",
    "# 进行推理\n",
    "with torch.no_grad():\n",
    "    output = model(x,x1)\n",
    "    print(\"模型推理结果:\", output)"
   ]
  },
  {
   "cell_type": "code",
   "execution_count": 287,
   "id": "365035fb-6312-4944-9a0b-931be6218523",
   "metadata": {},
   "outputs": [
    {
     "data": {
      "text/plain": [
       "torch.Size([815, 512])"
      ]
     },
     "execution_count": 287,
     "metadata": {},
     "output_type": "execute_result"
    }
   ],
   "source": [
    "output[1].shape"
   ]
  },
  {
   "cell_type": "code",
   "execution_count": 288,
   "id": "4dcfe56b-fece-469a-82dd-726e1350e833",
   "metadata": {},
   "outputs": [],
   "source": [
    "x_combine=torch.cat((output[1], output[2]), dim=1)"
   ]
  },
  {
   "cell_type": "code",
   "execution_count": 289,
   "id": "f9faf5a1-53c5-4690-9eef-f1aa40db1d20",
   "metadata": {},
   "outputs": [],
   "source": [
    "features_np = x_combine.detach().numpy()"
   ]
  },
  {
   "cell_type": "code",
   "execution_count": 290,
   "id": "c4eeb8ba-6d5c-43b3-b5ee-a2dacebad01c",
   "metadata": {},
   "outputs": [],
   "source": [
    "from sklearn.model_selection import train_test_split\n",
    "X_train_val, X_test, y_train_val, y_test = train_test_split(features_np, labels, test_size=0.25, random_state=42)\n",
    "X_train, X_val, y_train, y_val = train_test_split(X_train_val, y_train_val, test_size=0.2, random_state=42)\n",
    "X_train = torch.tensor(X_train, dtype=torch.float32)\n",
    "X_test = torch.tensor(X_test, dtype=torch.float32)\n",
    "y_train = torch.tensor(y_train, dtype=torch.float32)\n",
    "y_test = torch.tensor(y_test, dtype=torch.float32)\n",
    "X_val = torch.tensor(X_val, dtype=torch.float32)\n",
    "y_val = torch.tensor(y_val, dtype=torch.float32)"
   ]
  },
  {
   "cell_type": "code",
   "execution_count": 291,
   "id": "bd012d9b-ebdf-497d-bfe5-fca8741c9842",
   "metadata": {},
   "outputs": [
    {
     "name": "stdout",
     "output_type": "stream",
     "text": [
      "BinaryClassifier(\n",
      "  (fc1): Linear(in_features=1024, out_features=256, bias=True)\n",
      "  (fc2): Linear(in_features=256, out_features=128, bias=True)\n",
      "  (fc3): Linear(in_features=128, out_features=32, bias=True)\n",
      "  (fc4): Linear(in_features=32, out_features=16, bias=True)\n",
      "  (fc5): Linear(in_features=16, out_features=1, bias=True)\n",
      "  (relu): ReLU()\n",
      "  (sigmoid): Sigmoid()\n",
      ")\n"
     ]
    }
   ],
   "source": [
    "import torch\n",
    "import torch.nn as nn\n",
    "\n",
    "class BinaryClassifier(nn.Module):\n",
    "     def __init__(self, input_size):\n",
    "        super(BinaryClassifier, self).__init__()\n",
    "        self.fc1 = nn.Linear(input_size, 256)  # 第一个全连接层\n",
    "        self.fc2 = nn.Linear(256, 128)           # 第二个全连接层\n",
    "        self.fc3 = nn.Linear(128, 32)\n",
    "        self.fc4 = nn.Linear(32, 16)\n",
    "        self.fc5 = nn.Linear(16, 1)# 输出层\n",
    "        self.relu = nn.ReLU()                   # ReLU 激活函数\n",
    "        self.sigmoid = nn.Sigmoid()             # Sigmoid 激活函数用于二分类\n",
    "\n",
    "     def forward(self, x):\n",
    "        x = self.relu(self.fc1(x))              # 第一层\n",
    "        x = self.relu(self.fc2(x))\n",
    "        x = self.relu(self.fc3(x))\n",
    "        x = self.relu(self.fc4(x))\n",
    "        x = self.sigmoid(self.fc5(x))           # 输出层\n",
    "        return x   \n",
    "input_size = 1024  # 输入特征的维度\n",
    "model3 = BinaryClassifier(input_size)\n",
    "\n",
    "# 打印模型结构\n",
    "print(model3)"
   ]
  },
  {
   "cell_type": "code",
   "execution_count": 292,
   "id": "fa177dfc-404b-4378-8d13-130bc2f7b575",
   "metadata": {},
   "outputs": [
    {
     "name": "stdout",
     "output_type": "stream",
     "text": [
      "Epoch [1/30], Loss: 0.7087, Val Accuracy: 0.4553\n",
      "Epoch [2/30], Loss: 0.6945, Val Accuracy: 0.5203\n",
      "Epoch [3/30], Loss: 0.7311, Val Accuracy: 0.4797\n",
      "Epoch [4/30], Loss: 0.6946, Val Accuracy: 0.4959\n",
      "Epoch [5/30], Loss: 0.6935, Val Accuracy: 0.4797\n",
      "Epoch [6/30], Loss: 0.6992, Val Accuracy: 0.5203\n",
      "Epoch [7/30], Loss: 0.7078, Val Accuracy: 0.4797\n",
      "Epoch [8/30], Loss: 0.6900, Val Accuracy: 0.4797\n",
      "Epoch [9/30], Loss: 0.7011, Val Accuracy: 0.5447\n",
      "Epoch [10/30], Loss: 0.6886, Val Accuracy: 0.5203\n",
      "Epoch [11/30], Loss: 0.6977, Val Accuracy: 0.4797\n",
      "Epoch [12/30], Loss: 0.7002, Val Accuracy: 0.4797\n",
      "Epoch [13/30], Loss: 0.6888, Val Accuracy: 0.5203\n",
      "Epoch [14/30], Loss: 0.6955, Val Accuracy: 0.5285\n",
      "Epoch [15/30], Loss: 0.6871, Val Accuracy: 0.4878\n",
      "Epoch [16/30], Loss: 0.6864, Val Accuracy: 0.5122\n",
      "Epoch [17/30], Loss: 0.6825, Val Accuracy: 0.5447\n",
      "Epoch [18/30], Loss: 0.6849, Val Accuracy: 0.5203\n",
      "Epoch [19/30], Loss: 0.6805, Val Accuracy: 0.5122\n",
      "Epoch [20/30], Loss: 0.6831, Val Accuracy: 0.5203\n",
      "Epoch [21/30], Loss: 0.6786, Val Accuracy: 0.5447\n",
      "Epoch [22/30], Loss: 0.6801, Val Accuracy: 0.5041\n",
      "Epoch [23/30], Loss: 0.6771, Val Accuracy: 0.5041\n",
      "Epoch [24/30], Loss: 0.6767, Val Accuracy: 0.5285\n",
      "Epoch [25/30], Loss: 0.6757, Val Accuracy: 0.5041\n",
      "Epoch [26/30], Loss: 0.6734, Val Accuracy: 0.5366\n",
      "Epoch [27/30], Loss: 0.6738, Val Accuracy: 0.5122\n",
      "Epoch [28/30], Loss: 0.6707, Val Accuracy: 0.5041\n",
      "Epoch [29/30], Loss: 0.6708, Val Accuracy: 0.5285\n",
      "Epoch [30/30], Loss: 0.6688, Val Accuracy: 0.5041\n"
     ]
    }
   ],
   "source": [
    "import numpy as np\n",
    "import random\n",
    "criterion = nn.BCELoss()\n",
    "optimizer = optim.Adam(model3.parameters(), lr=0.001)\n",
    "num_epochs = 30\n",
    "acc=[]\n",
    "set_seed(42)\n",
    "for epoch in range(num_epochs):\n",
    "    model3.train()  # 设置为训练模式\n",
    "    optimizer.zero_grad()\n",
    "    \n",
    "    # 前向传播\n",
    "    outputs = model3(X_train)\n",
    "    loss = criterion(outputs, y_train.view(-1, 1).float())\n",
    "    \n",
    "    # 反向传播和优化\n",
    "    loss.backward()\n",
    "    optimizer.step()\n",
    "    model3.eval()  # 设置为评估模式\n",
    "    with torch.no_grad():  # 不计算梯度\n",
    "        val_outputs = model3(X_val)  # 在验证集上进行前向传播\n",
    "        val_predicted = (val_outputs >= 0.5).float()  # 将输出转换为0或1的预测\n",
    "        correct_predictions = (val_predicted.view(-1) == y_val).sum().item()  # 计算正确预测的数量\n",
    "        val_accuracy = correct_predictions / y_val.size(0)  # 计算验证集的准确率\n",
    "        acc.append(val_accuracy)\n",
    "    #if (epoch + 1) % 10 == 0:\n",
    "    print(f'Epoch [{epoch + 1}/{num_epochs}], Loss: {loss.item():.4f}, Val Accuracy: {val_accuracy:.4f}')"
   ]
  },
  {
   "cell_type": "code",
   "execution_count": 293,
   "id": "f0e9abda-f94e-42c6-9af0-241f08301c10",
   "metadata": {},
   "outputs": [
    {
     "name": "stdout",
     "output_type": "stream",
     "text": [
      "Validation Accuracy: 50.41%\n",
      "Validation F1 Score: 0.4696\n"
     ]
    }
   ],
   "source": [
    "from sklearn.metrics import f1_score\n",
    "\n",
    "# 将模型设置为评估模式（如果是用于推理）\n",
    "model3.eval()\n",
    "with torch.no_grad():\n",
    "    val_outputs = model3(X_val)\n",
    "    val_predictions = (val_outputs >= 0.5).float()  # 预测类别\n",
    "    val_accuracy = (val_predictions.view(-1) == y_val).float().mean()  # 计算准确率\n",
    "    print(f'Validation Accuracy: {val_accuracy.item() * 100:.2f}%')\n",
    "    val_predictions_np = val_predictions.cpu().numpy().flatten()\n",
    "    y_val_np = y_val.cpu().numpy().flatten()\n",
    "    # 计算 F1 分数\n",
    "    val_f1 = f1_score(y_val_np, val_predictions_np)\n",
    "    print(f'Validation F1 Score: {val_f1:.4f}')"
   ]
  },
  {
   "cell_type": "code",
   "execution_count": 294,
   "id": "15b82b09-e398-4a96-af91-e4058049e295",
   "metadata": {},
   "outputs": [
    {
     "name": "stdout",
     "output_type": "stream",
     "text": [
      "Validation Accuracy: 53.92%\n",
      "Validation F1 Score: 0.4198\n"
     ]
    }
   ],
   "source": [
    "# 将模型设置为评估模式（如果是用于推理）\n",
    "model3.eval()\n",
    "with torch.no_grad():\n",
    "    val_outputs = model3(X_test)\n",
    "    val_predictions = (val_outputs >= 0.5).float()  # 预测类别\n",
    "    val_accuracy = (val_predictions.view(-1) == y_test).float().mean()  # 计算准确率\n",
    "    print(f'Validation Accuracy: {val_accuracy.item() * 100:.2f}%')\n",
    "    val_predictions_np = val_predictions.cpu().numpy().flatten()\n",
    "    y_test_np = y_test.cpu().numpy().flatten()\n",
    "    # 计算 F1 分数\n",
    "    val_f1 = f1_score(y_test_np, val_predictions_np)\n",
    "    print(f'Validation F1 Score: {val_f1:.4f}')"
   ]
  },
  {
   "cell_type": "code",
   "execution_count": 295,
   "id": "677c9463-d035-4dec-9ef2-b1a75e73ce76",
   "metadata": {},
   "outputs": [
    {
     "name": "stdout",
     "output_type": "stream",
     "text": [
      "Original features shape: torch.Size([204, 1024])\n",
      "Noisy features shape: torch.Size([204])\n"
     ]
    }
   ],
   "source": [
    "import torch\n",
    "\n",
    "def add_gaussian_noise_pytorch(features, mean=0, std=0.1):\n",
    "    \"\"\"\n",
    "    给 PyTorch 张量形式的特征添加高斯噪声\n",
    "    :param features: 处理好的特征张量\n",
    "    :param mean: 高斯噪声的均值\n",
    "    :param std: 高斯噪声的标准差\n",
    "    :return: 添加噪声后的特征张量\n",
    "    \"\"\"\n",
    "    # 生成与特征张量形状相同的高斯噪声\n",
    "    noise = torch.randn(features.size()) * std + mean\n",
    "    # 将噪声添加到特征上\n",
    "    noisy_features = features + noise\n",
    "    return noisy_features\n",
    "# 添加高斯噪声\n",
    "X_test_noise = add_gaussian_noise_pytorch(X_test, mean=0, std=0.1)\n",
    "y_test_noise=y_test+y_test\n",
    "print(\"Original features shape:\", X_test_noise.shape)\n",
    "print(\"Noisy features shape:\", y_test_noise.shape)"
   ]
  },
  {
   "cell_type": "code",
   "execution_count": 296,
   "id": "8d0a03fc-eb05-4035-b5d9-ad16b34c08e1",
   "metadata": {},
   "outputs": [
    {
     "name": "stdout",
     "output_type": "stream",
     "text": [
      "Validation Accuracy: 37.75%\n",
      "Validation F1 Score: 0.4224\n"
     ]
    }
   ],
   "source": [
    "from sklearn.metrics import f1_score\n",
    "model.eval()  # 设置为评估模式\n",
    "with torch.no_grad():\n",
    "    val_outputs = model3(X_test_noise)\n",
    "    val_predictions = (val_outputs >= 0.5).float()  # 预测类别\n",
    "    val_accuracy = (val_predictions.view(-1) == y_test_noise).float().mean()  # 计算准确率\n",
    "    print(f'Validation Accuracy: {val_accuracy.item() * 100:.2f}%')\n",
    "    val_predictions_np = val_predictions.cpu().numpy().flatten()\n",
    "    y_test_np = y_test.cpu().numpy().flatten()\n",
    "    # 计算 F1 分数\n",
    "    val_f1 = f1_score(y_test_np, val_predictions_np)\n",
    "    print(f'Validation F1 Score: {val_f1:.4f}')"
   ]
  },
  {
   "cell_type": "code",
   "execution_count": 297,
   "id": "ad13fdfc-a2f5-494d-86d7-2ec8c2b2807f",
   "metadata": {},
   "outputs": [],
   "source": [
    "X_val_noise = add_gaussian_noise_pytorch(X_val, mean=0, std=0.1)\n",
    "y_val_noise=y_val+y_val"
   ]
  },
  {
   "cell_type": "code",
   "execution_count": 298,
   "id": "55011dcc-2814-4a10-a7f9-12c0320f520e",
   "metadata": {},
   "outputs": [
    {
     "name": "stdout",
     "output_type": "stream",
     "text": [
      "Validation Accuracy: 28.46%\n",
      "Validation F1 Score: 0.4696\n"
     ]
    }
   ],
   "source": [
    "from sklearn.metrics import f1_score\n",
    "model.eval()  # 设置为评估模式\n",
    "with torch.no_grad():\n",
    "    val_outputs = model3(X_val_noise)\n",
    "    val_predictions = (val_outputs >= 0.5).float()  # 预测类别\n",
    "    val_accuracy = (val_predictions.view(-1) == y_val_noise).float().mean()  # 计算准确率\n",
    "    print(f'Validation Accuracy: {val_accuracy.item() * 100:.2f}%')\n",
    "    val_predictions_np = val_predictions.cpu().numpy().flatten()\n",
    "    y_val_np = y_val.cpu().numpy().flatten()\n",
    "    # 计算 F1 分数\n",
    "    val_f1 = f1_score(y_val_np, val_predictions_np)\n",
    "    print(f'Validation F1 Score: {val_f1:.4f}')"
   ]
  },
  {
   "cell_type": "code",
   "execution_count": 299,
   "id": "41c8bd65-524b-4805-8e29-1bd4cfc8a0c7",
   "metadata": {},
   "outputs": [
    {
     "name": "stdout",
     "output_type": "stream",
     "text": [
      "Original features shape: torch.Size([204, 1024])\n",
      "Noisy features shape: torch.Size([204, 1024])\n"
     ]
    }
   ],
   "source": [
    "import torch\n",
    "import numpy as np\n",
    "\n",
    "def add_salt_and_pepper_noise(features, salt_prob=0.01, pepper_prob=0.01):\n",
    "    \"\"\"\n",
    "    给 PyTorch 张量形式的特征添加椒盐噪声\n",
    "    :param features: 处理好的特征张量\n",
    "    :param salt_prob: 添加盐噪声的概率\n",
    "    :param pepper_prob: 添加胡椒噪声的概率\n",
    "    :return: 添加噪声后的特征张量\n",
    "    \"\"\"\n",
    "    # 创建一个与特征相同形状的噪声张量\n",
    "    noisy_features = features.clone()\n",
    "    \n",
    "    # 生成随机数\n",
    "    random_values = torch.rand(features.size())\n",
    "    \n",
    "    # 添加盐噪声（随机选择一些像素点设置为最大值）\n",
    "    noisy_features[random_values < salt_prob] = 1.0  # 1.0 表示盐噪声\n",
    "    \n",
    "    # 添加胡椒噪声（随机选择一些像素点设置为最小值）\n",
    "    noisy_features[random_values > (1 - pepper_prob)] = 0.0  # 0.0 表示胡椒噪声\n",
    "    \n",
    "    return noisy_features\n",
    "\n",
    "# 添加椒盐噪声\n",
    "X_test_noise = add_salt_and_pepper_noise(X_test, salt_prob=0.01, pepper_prob=0.01)\n",
    "y_test_noise = y_test + y_test  # 根据需要进行修改\n",
    "print(\"Original features shape:\", X_test.shape)\n",
    "print(\"Noisy features shape:\", X_test_noise.shape)"
   ]
  },
  {
   "cell_type": "code",
   "execution_count": 300,
   "id": "0af84d6e-fb4b-404b-84cc-294df726d8dc",
   "metadata": {},
   "outputs": [
    {
     "name": "stdout",
     "output_type": "stream",
     "text": [
      "Validation Accuracy: 36.27%\n",
      "Validation F1 Score: 0.4146\n"
     ]
    }
   ],
   "source": [
    "from sklearn.metrics import f1_score\n",
    "model.eval()  # 设置为评估模式\n",
    "with torch.no_grad():\n",
    "    val_outputs = model3(X_test_noise)\n",
    "    val_predictions = (val_outputs >= 0.5).float()  # 预测类别\n",
    "    val_accuracy = (val_predictions.view(-1) == y_test_noise).float().mean()  # 计算准确率\n",
    "    print(f'Validation Accuracy: {val_accuracy.item() * 100:.2f}%')\n",
    "    val_predictions_np = val_predictions.cpu().numpy().flatten()\n",
    "    y_test_np = y_test.cpu().numpy().flatten()\n",
    "    # 计算 F1 分数\n",
    "    val_f1 = f1_score(y_test_np, val_predictions_np)\n",
    "    print(f'Validation F1 Score: {val_f1:.4f}')"
   ]
  },
  {
   "cell_type": "code",
   "execution_count": 301,
   "id": "3bb63bc4-a7d2-4a91-9a7e-39a2e07cf1ec",
   "metadata": {},
   "outputs": [
    {
     "name": "stdout",
     "output_type": "stream",
     "text": [
      "Validation Accuracy: 28.46%\n",
      "Validation F1 Score: 0.4696\n"
     ]
    }
   ],
   "source": [
    "X_val_noise = add_salt_and_pepper_noise(X_val, salt_prob=0.01, pepper_prob=0.01)\n",
    "y_val_noise=y_val+y_val\n",
    "from sklearn.metrics import f1_score\n",
    "model.eval()  # 设置为评估模式\n",
    "with torch.no_grad():\n",
    "    val_outputs = model3(X_val_noise)\n",
    "    val_predictions = (val_outputs >= 0.5).float()  # 预测类别\n",
    "    val_accuracy = (val_predictions.view(-1) == y_val_noise).float().mean()  # 计算准确率\n",
    "    print(f'Validation Accuracy: {val_accuracy.item() * 100:.2f}%')\n",
    "    val_predictions_np = val_predictions.cpu().numpy().flatten()\n",
    "    y_val_np = y_val.cpu().numpy().flatten()\n",
    "    # 计算 F1 分数\n",
    "    val_f1 = f1_score(y_val_np, val_predictions_np)\n",
    "    print(f'Validation F1 Score: {val_f1:.4f}')"
   ]
  },
  {
   "cell_type": "code",
   "execution_count": 302,
   "id": "994da260-6b60-47e1-94b7-d6a07d0d8da5",
   "metadata": {},
   "outputs": [],
   "source": [
    "import torch.nn as nn\n",
    "\n",
    "class FeatureMapper(nn.Module):\n",
    "    def __init__(self, input_dim, output_dim):\n",
    "        super(FeatureMapper, self).__init__()\n",
    "        self.fc = nn.Linear(input_dim, output_dim)\n",
    "\n",
    "    def forward(self, x):\n",
    "        return self.fc(x)"
   ]
  },
  {
   "cell_type": "code",
   "execution_count": 303,
   "id": "1f3253f0-c2bc-43a3-aa1a-119cb30574cb",
   "metadata": {},
   "outputs": [],
   "source": [
    "def attention(query, key, value):\n",
    "        scores = torch.matmul(query, key.transpose(-2, -1))  # 点积\n",
    "        weights = nn.functional.softmax(scores, dim=-1)  # softmax\n",
    "        return torch.matmul(weights, value)  # 加权求和"
   ]
  },
  {
   "cell_type": "code",
   "execution_count": 304,
   "id": "ab754134-b560-479d-8833-aabae6a6b1c3",
   "metadata": {},
   "outputs": [],
   "source": [
    "def fusion(original, attended):\n",
    "        return original + attended  # 或者使用 torch.cat 进行连接"
   ]
  },
  {
   "cell_type": "code",
   "execution_count": 305,
   "id": "fa67d0a7-d2c6-4b3e-803f-aed777581da5",
   "metadata": {},
   "outputs": [
    {
     "data": {
      "text/plain": [
       "torch.Size([815, 56832])"
      ]
     },
     "execution_count": 305,
     "metadata": {},
     "output_type": "execute_result"
    }
   ],
   "source": [
    "x1.shape"
   ]
  },
  {
   "cell_type": "code",
   "execution_count": 306,
   "id": "9cf2bae6-119a-437a-a4c5-a88254bb7111",
   "metadata": {},
   "outputs": [],
   "source": [
    "image_mapper = FeatureMapper(75648, 512)\n",
    "text_mapper = FeatureMapper(56832, 512)\n",
    "\n",
    "mapped_image = image_mapper(x)\n",
    "mapped_text = text_mapper(x1)\n",
    "\n",
    "# 计算注意力\n",
    "attended_image = attention(mapped_text, mapped_image, mapped_image)\n",
    "attended_text = attention(mapped_image, mapped_text, mapped_text)\n",
    "\n",
    "# 特征融合\n",
    "fused_image = fusion(mapped_image, attended_image)\n",
    "fused_text = fusion(mapped_text, attended_text)"
   ]
  },
  {
   "cell_type": "code",
   "execution_count": 307,
   "id": "86a67181-edef-4854-a313-6563fb740b73",
   "metadata": {},
   "outputs": [],
   "source": [
    "x_fuse=torch.cat((fused_image, fused_text), dim=1)\n",
    "x_fuse = x_fuse.detach().numpy()\n",
    "from sklearn.model_selection import train_test_split\n",
    "X_train_val, X_test, y_train_val, y_test = train_test_split(x_fuse, labels, test_size=0.25, random_state=42)\n",
    "X_train, X_val, y_train, y_val = train_test_split(X_train_val, y_train_val, test_size=0.2, random_state=42)\n",
    "X_train = torch.tensor(X_train, dtype=torch.float32)\n",
    "X_test = torch.tensor(X_test, dtype=torch.float32)\n",
    "y_train = torch.tensor(y_train, dtype=torch.float32)\n",
    "y_test = torch.tensor(y_test, dtype=torch.float32)\n",
    "X_val = torch.tensor(X_val, dtype=torch.float32)\n",
    "y_val = torch.tensor(y_val, dtype=torch.float32)"
   ]
  },
  {
   "cell_type": "code",
   "execution_count": 308,
   "id": "2cb9e44f-eaa5-468a-83ab-d4f37dcbff07",
   "metadata": {},
   "outputs": [
    {
     "name": "stdout",
     "output_type": "stream",
     "text": [
      "BinaryClassifier(\n",
      "  (fc1): Linear(in_features=1024, out_features=128, bias=True)\n",
      "  (fc2): Linear(in_features=128, out_features=64, bias=True)\n",
      "  (fc3): Linear(in_features=64, out_features=32, bias=True)\n",
      "  (fc4): Linear(in_features=32, out_features=16, bias=True)\n",
      "  (fc5): Linear(in_features=16, out_features=1, bias=True)\n",
      "  (relu): ReLU()\n",
      "  (sigmoid): Sigmoid()\n",
      ")\n"
     ]
    }
   ],
   "source": [
    "import torch\n",
    "import torch.nn as nn\n",
    "\n",
    "class BinaryClassifier(nn.Module):\n",
    "     def __init__(self, input_size):\n",
    "        super(BinaryClassifier, self).__init__()\n",
    "        self.fc1 = nn.Linear(input_size, 128)  # 第一个全连接层\n",
    "        self.fc2 = nn.Linear(128, 64)           # 第二个全连接层\n",
    "        self.fc3 = nn.Linear(64, 32)\n",
    "        self.fc4 = nn.Linear(32, 16)\n",
    "        self.fc5 = nn.Linear(16, 1)# 输出层\n",
    "        self.relu = nn.ReLU()                   # ReLU 激活函数\n",
    "        self.sigmoid = nn.Sigmoid()             # Sigmoid 激活函数用于二分类\n",
    "\n",
    "     def forward(self, x):\n",
    "        x = self.relu(self.fc1(x))              # 第一层\n",
    "        x = self.relu(self.fc2(x))\n",
    "        x = self.relu(self.fc3(x))\n",
    "        x = self.relu(self.fc4(x))\n",
    "        x = self.sigmoid(self.fc5(x))           # 输出层\n",
    "        return x                                 # 返回概率值\n",
    "\n",
    "# 使用示例\n",
    "input_size = 1024  # 输入特征的维度\n",
    "model = BinaryClassifier(input_size)\n",
    "\n",
    "# 打印模型结构\n",
    "print(model)"
   ]
  },
  {
   "cell_type": "code",
   "execution_count": 309,
   "id": "62a21420-a67b-414e-ab82-407a87dfbb2c",
   "metadata": {},
   "outputs": [
    {
     "name": "stdout",
     "output_type": "stream",
     "text": [
      "Epoch [1/30], Loss: 0.6932, Val Accuracy: 0.4878\n",
      "Epoch [2/30], Loss: 0.6913, Val Accuracy: 0.5285\n",
      "Epoch [3/30], Loss: 0.6893, Val Accuracy: 0.5285\n",
      "Epoch [4/30], Loss: 0.6867, Val Accuracy: 0.5203\n",
      "Epoch [5/30], Loss: 0.6836, Val Accuracy: 0.5528\n",
      "Epoch [6/30], Loss: 0.6797, Val Accuracy: 0.5610\n",
      "Epoch [7/30], Loss: 0.6752, Val Accuracy: 0.5528\n",
      "Epoch [8/30], Loss: 0.6698, Val Accuracy: 0.5610\n",
      "Epoch [9/30], Loss: 0.6635, Val Accuracy: 0.5366\n",
      "Epoch [10/30], Loss: 0.6556, Val Accuracy: 0.5285\n",
      "Epoch [11/30], Loss: 0.6466, Val Accuracy: 0.5203\n",
      "Epoch [12/30], Loss: 0.6368, Val Accuracy: 0.5122\n",
      "Epoch [13/30], Loss: 0.6255, Val Accuracy: 0.5041\n",
      "Epoch [14/30], Loss: 0.6125, Val Accuracy: 0.5285\n",
      "Epoch [15/30], Loss: 0.5973, Val Accuracy: 0.5203\n",
      "Epoch [16/30], Loss: 0.5796, Val Accuracy: 0.5203\n",
      "Epoch [17/30], Loss: 0.5600, Val Accuracy: 0.4878\n",
      "Epoch [18/30], Loss: 0.5403, Val Accuracy: 0.5122\n",
      "Epoch [19/30], Loss: 0.5209, Val Accuracy: 0.5041\n",
      "Epoch [20/30], Loss: 0.4997, Val Accuracy: 0.5041\n",
      "Epoch [21/30], Loss: 0.4755, Val Accuracy: 0.5366\n",
      "Epoch [22/30], Loss: 0.4554, Val Accuracy: 0.5041\n",
      "Epoch [23/30], Loss: 0.4348, Val Accuracy: 0.4878\n",
      "Epoch [24/30], Loss: 0.4067, Val Accuracy: 0.5122\n",
      "Epoch [25/30], Loss: 0.3858, Val Accuracy: 0.5203\n",
      "Epoch [26/30], Loss: 0.3675, Val Accuracy: 0.4878\n",
      "Epoch [27/30], Loss: 0.3375, Val Accuracy: 0.4797\n",
      "Epoch [28/30], Loss: 0.3155, Val Accuracy: 0.5285\n",
      "Epoch [29/30], Loss: 0.2990, Val Accuracy: 0.4959\n",
      "Epoch [30/30], Loss: 0.2716, Val Accuracy: 0.4878\n"
     ]
    }
   ],
   "source": [
    "import numpy as np\n",
    "import random\n",
    "criterion = nn.BCELoss()\n",
    "optimizer = optim.Adam(model.parameters(), lr=0.001)\n",
    "num_epochs = 30\n",
    "acc1=[]\n",
    "for epoch in range(num_epochs):\n",
    "    model.train()  # 设置为训练模式\n",
    "    optimizer.zero_grad()\n",
    "    \n",
    "    # 前向传播\n",
    "    outputs = model(X_train)\n",
    "    loss = criterion(outputs, y_train.view(-1, 1).float())\n",
    "    \n",
    "    # 反向传播和优化\n",
    "    loss.backward()\n",
    "    optimizer.step()\n",
    "    model.eval()  # 设置为评估模式\n",
    "    with torch.no_grad():  # 不计算梯度\n",
    "        val_outputs = model(X_val)  # 在验证集上进行前向传播\n",
    "        val_predicted = (val_outputs >= 0.5).float()  # 将输出转换为0或1的预测\n",
    "        correct_predictions = (val_predicted.view(-1) == y_val).sum().item()  # 计算正确预测的数量\n",
    "        val_accuracy = correct_predictions / y_val.size(0)  # 计算验证集的准确率\n",
    "        acc1.append(val_accuracy)\n",
    "    #if (epoch + 1) % 10 == 0:\n",
    "    print(f'Epoch [{epoch + 1}/{num_epochs}], Loss: {loss.item():.4f}, Val Accuracy: {val_accuracy:.4f}')"
   ]
  },
  {
   "cell_type": "code",
   "execution_count": 310,
   "id": "86e3d321-487c-4b1a-b22a-8afeeac29124",
   "metadata": {},
   "outputs": [
    {
     "name": "stdout",
     "output_type": "stream",
     "text": [
      "Validation Accuracy: 48.78%\n",
      "Validation F1 Score: 0.5116\n"
     ]
    }
   ],
   "source": [
    "from sklearn.metrics import f1_score\n",
    "with torch.no_grad():\n",
    "    val_outputs = model(X_val)\n",
    "    val_predictions = (val_outputs >= 0.5).float()  # 预测类别\n",
    "    val_accuracy = (val_predictions.view(-1) == y_val).float().mean()  # 计算准确率\n",
    "    print(f'Validation Accuracy: {val_accuracy.item() * 100:.2f}%')\n",
    "    val_predictions_np = val_predictions.cpu().numpy().flatten()\n",
    "    y_val_np = y_val.cpu().numpy().flatten()\n",
    "    # 计算 F1 分数\n",
    "    val_f1 = f1_score(y_val_np, val_predictions_np)\n",
    "    print(f'Validation F1 Score: {val_f1:.4f}')"
   ]
  },
  {
   "cell_type": "code",
   "execution_count": 311,
   "id": "c9f1d842-444b-4df4-80bc-32b084226961",
   "metadata": {},
   "outputs": [
    {
     "name": "stdout",
     "output_type": "stream",
     "text": [
      "Validation Accuracy: 52.94%\n",
      "Validation F1 Score: 0.4894\n"
     ]
    }
   ],
   "source": [
    "with torch.no_grad():\n",
    "    val_outputs = model(X_test)\n",
    "    val_predictions = (val_outputs >= 0.5).float()  # 预测类别\n",
    "    val_accuracy = (val_predictions.view(-1) == y_test).float().mean()  # 计算准确率\n",
    "    print(f'Validation Accuracy: {val_accuracy.item() * 100:.2f}%')\n",
    "    val_predictions_np = val_predictions.cpu().numpy().flatten()\n",
    "    y_test_np = y_test.cpu().numpy().flatten()\n",
    "    # 计算 F1 分数\n",
    "    val_f1 = f1_score(y_test_np, val_predictions_np)\n",
    "    print(f'Validation F1 Score: {val_f1:.4f}')"
   ]
  },
  {
   "cell_type": "code",
   "execution_count": 312,
   "id": "f35e1e8a-cb02-4239-8e3a-ec062abd1733",
   "metadata": {},
   "outputs": [
    {
     "data": {
      "text/plain": [
       "30"
      ]
     },
     "execution_count": 312,
     "metadata": {},
     "output_type": "execute_result"
    }
   ],
   "source": [
    "len(acc)"
   ]
  },
  {
   "cell_type": "code",
   "execution_count": 313,
   "id": "af6be14d-3675-49e0-95c3-b3bea4aee7cb",
   "metadata": {
    "scrolled": true
   },
   "outputs": [],
   "source": [
    "import torch\n",
    "import torch.nn as nn\n",
    "\n",
    "class FeatureFusion(nn.Module):\n",
    "    def __init__(self, input_dim_u1, input_dim_u2):\n",
    "        super(FeatureFusion, self).__init__()\n",
    "        # 定义线性层以调整特征维度\n",
    "        self.linear_u1 = nn.Linear(input_dim_u1, 512)\n",
    "        self.linear_u2 = nn.Linear(input_dim_u2, 512)\n",
    "\n",
    "    def forward(self, u1, u2):\n",
    "        # 调整特征维度\n",
    "        u1_transformed = self.linear_u1(u1)\n",
    "        u2_transformed = self.linear_u2(u2)\n",
    "\n",
    "        # 计算外积\n",
    "        # 相加\n",
    "        z = u1_transformed + u2_transformed\n",
    "        return z\n",
    "\n",
    "# 示例输入\n",
    "feature_dim_u1 = 75648  # 模态1特征维度\n",
    "feature_dim_u2 = 56832  # 模态2特征维度\n",
    "feature_fusion = FeatureFusion(feature_dim_u1, feature_dim_u2)\n",
    "\n",
    "# 计算融合特征\n",
    "z = feature_fusion(x, x1)"
   ]
  },
  {
   "cell_type": "code",
   "execution_count": 314,
   "id": "7ac22abd-b0b5-4db1-88b9-2106cc5c5cdb",
   "metadata": {},
   "outputs": [
    {
     "name": "stdout",
     "output_type": "stream",
     "text": [
      "BinaryClassifier(\n",
      "  (fc1): Linear(in_features=512, out_features=128, bias=True)\n",
      "  (fc2): Linear(in_features=128, out_features=64, bias=True)\n",
      "  (fc3): Linear(in_features=64, out_features=32, bias=True)\n",
      "  (fc4): Linear(in_features=32, out_features=16, bias=True)\n",
      "  (fc5): Linear(in_features=16, out_features=1, bias=True)\n",
      "  (relu): ReLU()\n",
      "  (sigmoid): Sigmoid()\n",
      ")\n"
     ]
    }
   ],
   "source": [
    "import torch\n",
    "import torch.nn as nn\n",
    "\n",
    "class BinaryClassifier(nn.Module):\n",
    "     def __init__(self, input_size):\n",
    "        super(BinaryClassifier, self).__init__()\n",
    "        self.fc1 = nn.Linear(input_size, 128)  # 第一个全连接层\n",
    "        self.fc2 = nn.Linear(128, 64)           # 第二个全连接层\n",
    "        self.fc3 = nn.Linear(64, 32)\n",
    "        self.fc4 = nn.Linear(32, 16)\n",
    "        self.fc5 = nn.Linear(16, 1)# 输出层\n",
    "        self.relu = nn.ReLU()                   # ReLU 激活函数\n",
    "        self.sigmoid = nn.Sigmoid()             # Sigmoid 激活函数用于二分类\n",
    "\n",
    "     def forward(self, x):\n",
    "        x = self.relu(self.fc1(x))              # 第一层\n",
    "        x = self.relu(self.fc2(x))\n",
    "        x = self.relu(self.fc3(x))\n",
    "        x = self.relu(self.fc4(x))\n",
    "        x = self.sigmoid(self.fc5(x))           # 输出层\n",
    "        return x                                 # 返回概率值\n",
    "\n",
    "# 使用示例\n",
    "input_size = 512  # 输入特征的维度\n",
    "model = BinaryClassifier(input_size)\n",
    "\n",
    "# 打印模型结构\n",
    "print(model)"
   ]
  },
  {
   "cell_type": "code",
   "execution_count": 315,
   "id": "3cc0bc4f-06c7-47d0-a011-dcff287062e3",
   "metadata": {},
   "outputs": [],
   "source": [
    "z = z.detach().numpy()\n",
    "from sklearn.model_selection import train_test_split\n",
    "X_train_val, X_test, y_train_val, y_test = train_test_split(z, labels, test_size=0.25, random_state=42)\n",
    "X_train, X_val, y_train, y_val = train_test_split(X_train_val, y_train_val, test_size=0.2, random_state=42)\n",
    "X_train = torch.tensor(X_train, dtype=torch.float32)\n",
    "X_test = torch.tensor(X_test, dtype=torch.float32)\n",
    "y_train = torch.tensor(y_train, dtype=torch.float32)\n",
    "y_test = torch.tensor(y_test, dtype=torch.float32)\n",
    "X_val = torch.tensor(X_val, dtype=torch.float32)\n",
    "y_val = torch.tensor(y_val, dtype=torch.float32)"
   ]
  },
  {
   "cell_type": "code",
   "execution_count": 316,
   "id": "4b5f64f2-d003-4bd7-9dd9-80289b90b585",
   "metadata": {},
   "outputs": [
    {
     "name": "stdout",
     "output_type": "stream",
     "text": [
      "Epoch [1/30], Loss: 0.6945, Val Accuracy: 0.4797\n",
      "Epoch [2/30], Loss: 0.6929, Val Accuracy: 0.4797\n",
      "Epoch [3/30], Loss: 0.6910, Val Accuracy: 0.4797\n",
      "Epoch [4/30], Loss: 0.6884, Val Accuracy: 0.4797\n",
      "Epoch [5/30], Loss: 0.6854, Val Accuracy: 0.4797\n",
      "Epoch [6/30], Loss: 0.6818, Val Accuracy: 0.4797\n",
      "Epoch [7/30], Loss: 0.6774, Val Accuracy: 0.4715\n",
      "Epoch [8/30], Loss: 0.6721, Val Accuracy: 0.5041\n",
      "Epoch [9/30], Loss: 0.6657, Val Accuracy: 0.5366\n",
      "Epoch [10/30], Loss: 0.6582, Val Accuracy: 0.5610\n",
      "Epoch [11/30], Loss: 0.6495, Val Accuracy: 0.5610\n",
      "Epoch [12/30], Loss: 0.6396, Val Accuracy: 0.5366\n",
      "Epoch [13/30], Loss: 0.6282, Val Accuracy: 0.5041\n",
      "Epoch [14/30], Loss: 0.6153, Val Accuracy: 0.4797\n",
      "Epoch [15/30], Loss: 0.6003, Val Accuracy: 0.4634\n",
      "Epoch [16/30], Loss: 0.5830, Val Accuracy: 0.4472\n",
      "Epoch [17/30], Loss: 0.5633, Val Accuracy: 0.4472\n",
      "Epoch [18/30], Loss: 0.5408, Val Accuracy: 0.4309\n",
      "Epoch [19/30], Loss: 0.5157, Val Accuracy: 0.4472\n",
      "Epoch [20/30], Loss: 0.4882, Val Accuracy: 0.4472\n",
      "Epoch [21/30], Loss: 0.4585, Val Accuracy: 0.4228\n",
      "Epoch [22/30], Loss: 0.4268, Val Accuracy: 0.4228\n",
      "Epoch [23/30], Loss: 0.3938, Val Accuracy: 0.3984\n",
      "Epoch [24/30], Loss: 0.3606, Val Accuracy: 0.4065\n",
      "Epoch [25/30], Loss: 0.3273, Val Accuracy: 0.4065\n",
      "Epoch [26/30], Loss: 0.2940, Val Accuracy: 0.4228\n",
      "Epoch [27/30], Loss: 0.2612, Val Accuracy: 0.4228\n",
      "Epoch [28/30], Loss: 0.2299, Val Accuracy: 0.4390\n",
      "Epoch [29/30], Loss: 0.2012, Val Accuracy: 0.4228\n",
      "Epoch [30/30], Loss: 0.1769, Val Accuracy: 0.4228\n"
     ]
    }
   ],
   "source": [
    "import numpy as np\n",
    "import random\n",
    "criterion = nn.BCELoss()\n",
    "optimizer = optim.Adam(model.parameters(), lr=0.001)\n",
    "num_epochs = 30\n",
    "acc2=[]\n",
    "for epoch in range(num_epochs):\n",
    "    model.train()  # 设置为训练模式\n",
    "    optimizer.zero_grad()\n",
    "    \n",
    "    # 前向传播\n",
    "    outputs = model(X_train)\n",
    "    loss = criterion(outputs, y_train.view(-1, 1).float())\n",
    "    \n",
    "    # 反向传播和优化\n",
    "    loss.backward()\n",
    "    optimizer.step()\n",
    "    model.eval()  # 设置为评估模式\n",
    "    with torch.no_grad():  # 不计算梯度\n",
    "        val_outputs = model(X_val)  # 在验证集上进行前向传播\n",
    "        val_predicted = (val_outputs >= 0.5).float()  # 将输出转换为0或1的预测\n",
    "        correct_predictions = (val_predicted.view(-1) == y_val).sum().item()  # 计算正确预测的数量\n",
    "        val_accuracy = correct_predictions / y_val.size(0)  # 计算验证集的准确率\n",
    "        acc2.append(val_accuracy)\n",
    "    #if (epoch + 1) % 10 == 0:\n",
    "    print(f'Epoch [{epoch + 1}/{num_epochs}], Loss: {loss.item():.4f}, Val Accuracy: {val_accuracy:.4f}')"
   ]
  },
  {
   "cell_type": "code",
   "execution_count": 317,
   "id": "f2873e7a-4c5b-42c7-bd75-79bd3d628f49",
   "metadata": {},
   "outputs": [
    {
     "name": "stdout",
     "output_type": "stream",
     "text": [
      "Validation Accuracy: 42.28%\n",
      "Validation F1 Score: 0.4228\n"
     ]
    }
   ],
   "source": [
    "from sklearn.metrics import f1_score\n",
    "with torch.no_grad():\n",
    "    val_outputs = model(X_val)\n",
    "    val_predictions = (val_outputs >= 0.5).float()  # 预测类别\n",
    "    val_accuracy = (val_predictions.view(-1) == y_val).float().mean()  # 计算准确率\n",
    "    print(f'Validation Accuracy: {val_accuracy.item() * 100:.2f}%')\n",
    "    val_predictions_np = val_predictions.cpu().numpy().flatten()\n",
    "    y_val_np = y_val.cpu().numpy().flatten()\n",
    "    # 计算 F1 分数\n",
    "    val_f1 = f1_score(y_val_np, val_predictions_np)\n",
    "    print(f'Validation F1 Score: {val_f1:.4f}')"
   ]
  },
  {
   "cell_type": "code",
   "execution_count": 318,
   "id": "4e40e072-3c01-4f08-9c2d-2ae1cd465139",
   "metadata": {},
   "outputs": [
    {
     "name": "stdout",
     "output_type": "stream",
     "text": [
      "Validation Accuracy: 54.90%\n",
      "Validation F1 Score: 0.5000\n"
     ]
    }
   ],
   "source": [
    "with torch.no_grad():\n",
    "    val_outputs = model(X_test)\n",
    "    val_predictions = (val_outputs >= 0.5).float()  # 预测类别\n",
    "    val_accuracy = (val_predictions.view(-1) == y_test).float().mean()  # 计算准确率\n",
    "    print(f'Validation Accuracy: {val_accuracy.item() * 100:.2f}%')\n",
    "    val_predictions_np = val_predictions.cpu().numpy().flatten()\n",
    "    y_test_np = y_test.cpu().numpy().flatten()\n",
    "    # 计算 F1 分数\n",
    "    val_f1 = f1_score(y_test_np, val_predictions_np)\n",
    "    print(f'Validation F1 Score: {val_f1:.4f}')"
   ]
  },
  {
   "cell_type": "code",
   "execution_count": 319,
   "id": "b2635795-5f69-4da8-90eb-2d03303661a7",
   "metadata": {},
   "outputs": [],
   "source": [
    "import torch\n",
    "import torch.nn as nn\n",
    "\n",
    "class FeatureFusion(nn.Module):\n",
    "    def __init__(self, input_dim_u1, input_dim_u2):\n",
    "        super(FeatureFusion, self).__init__()\n",
    "        # 定义线性层以调整特征维度\n",
    "        self.linear_u1 = nn.Linear(input_dim_u1, 512)\n",
    "        self.linear_u2 = nn.Linear(input_dim_u2, 512)\n",
    "\n",
    "    def forward(self, u1, u2):\n",
    "        # 调整特征维度\n",
    "        u1_transformed = self.linear_u1(u1)\n",
    "        u2_transformed = self.linear_u2(u2)\n",
    "\n",
    "        # 计算外积\n",
    "        z = self.outer_product(u1_transformed, u2_transformed)\n",
    "        return z\n",
    "\n",
    "    def outer_product(self, x, y):\n",
    "        return torch.einsum('ik,jk->ij', x, y)\n",
    "\n",
    "# 示例输入\n",
    "feature_dim_u1 = 75648  # 模态1特征维度\n",
    "feature_dim_u2 = 56832  # 模态2特征维度\n",
    "feature_fusion = FeatureFusion(feature_dim_u1, feature_dim_u2)\n",
    "\n",
    "# 计算融合特征\n",
    "z = feature_fusion(x, x1)"
   ]
  },
  {
   "cell_type": "code",
   "execution_count": 320,
   "id": "57ef9f3f-b253-424e-9e0a-1fa1e562a59c",
   "metadata": {},
   "outputs": [
    {
     "name": "stdout",
     "output_type": "stream",
     "text": [
      "BinaryClassifier(\n",
      "  (fc1): Linear(in_features=815, out_features=128, bias=True)\n",
      "  (fc2): Linear(in_features=128, out_features=64, bias=True)\n",
      "  (fc3): Linear(in_features=64, out_features=32, bias=True)\n",
      "  (fc4): Linear(in_features=32, out_features=16, bias=True)\n",
      "  (fc5): Linear(in_features=16, out_features=1, bias=True)\n",
      "  (relu): ReLU()\n",
      "  (sigmoid): Sigmoid()\n",
      ")\n"
     ]
    }
   ],
   "source": [
    "import torch\n",
    "import torch.nn as nn\n",
    "\n",
    "class BinaryClassifier(nn.Module):\n",
    "     def __init__(self, input_size):\n",
    "        super(BinaryClassifier, self).__init__()\n",
    "        self.fc1 = nn.Linear(input_size, 128)  # 第一个全连接层\n",
    "        self.fc2 = nn.Linear(128, 64)           # 第二个全连接层\n",
    "        self.fc3 = nn.Linear(64, 32)\n",
    "        self.fc4 = nn.Linear(32, 16)\n",
    "        self.fc5 = nn.Linear(16, 1)# 输出层\n",
    "        self.relu = nn.ReLU()                   # ReLU 激活函数\n",
    "        self.sigmoid = nn.Sigmoid()             # Sigmoid 激活函数用于二分类\n",
    "\n",
    "     def forward(self, x):\n",
    "        x = self.relu(self.fc1(x))              # 第一层\n",
    "        x = self.relu(self.fc2(x))\n",
    "        x = self.relu(self.fc3(x))\n",
    "        x = self.relu(self.fc4(x))\n",
    "        x = self.sigmoid(self.fc5(x))           # 输出层\n",
    "        return x                                 # 返回概率值\n",
    "\n",
    "# 使用示例\n",
    "input_size = 815  # 输入特征的维度\n",
    "model = BinaryClassifier(input_size)\n",
    "\n",
    "# 打印模型结构\n",
    "print(model)"
   ]
  },
  {
   "cell_type": "code",
   "execution_count": 321,
   "id": "986386da-3ddc-4098-82b9-b1f959c53f00",
   "metadata": {},
   "outputs": [],
   "source": [
    "z = z.detach().numpy()\n",
    "from sklearn.model_selection import train_test_split\n",
    "X_train_val, X_test, y_train_val, y_test = train_test_split(z, labels, test_size=0.25, random_state=42)\n",
    "X_train, X_val, y_train, y_val = train_test_split(X_train_val, y_train_val, test_size=0.2, random_state=42)\n",
    "X_train = torch.tensor(X_train, dtype=torch.float32)\n",
    "X_test = torch.tensor(X_test, dtype=torch.float32)\n",
    "y_train = torch.tensor(y_train, dtype=torch.float32)\n",
    "y_test = torch.tensor(y_test, dtype=torch.float32)\n",
    "X_val = torch.tensor(X_val, dtype=torch.float32)\n",
    "y_val = torch.tensor(y_val, dtype=torch.float32)"
   ]
  },
  {
   "cell_type": "code",
   "execution_count": 322,
   "id": "0a15a813-10dd-4f97-8005-b25f8d19b6e5",
   "metadata": {},
   "outputs": [
    {
     "name": "stdout",
     "output_type": "stream",
     "text": [
      "Epoch [1/30], Loss: 0.6955, Val Accuracy: 0.4390\n",
      "Epoch [2/30], Loss: 0.6882, Val Accuracy: 0.4228\n",
      "Epoch [3/30], Loss: 0.6830, Val Accuracy: 0.4553\n",
      "Epoch [4/30], Loss: 0.6755, Val Accuracy: 0.4228\n",
      "Epoch [5/30], Loss: 0.6668, Val Accuracy: 0.4634\n",
      "Epoch [6/30], Loss: 0.6539, Val Accuracy: 0.5203\n",
      "Epoch [7/30], Loss: 0.6405, Val Accuracy: 0.4228\n",
      "Epoch [8/30], Loss: 0.6317, Val Accuracy: 0.4390\n",
      "Epoch [9/30], Loss: 0.6103, Val Accuracy: 0.5122\n",
      "Epoch [10/30], Loss: 0.6028, Val Accuracy: 0.4390\n",
      "Epoch [11/30], Loss: 0.5811, Val Accuracy: 0.4390\n",
      "Epoch [12/30], Loss: 0.5653, Val Accuracy: 0.4878\n",
      "Epoch [13/30], Loss: 0.5455, Val Accuracy: 0.4715\n",
      "Epoch [14/30], Loss: 0.5233, Val Accuracy: 0.4472\n",
      "Epoch [15/30], Loss: 0.5056, Val Accuracy: 0.4553\n",
      "Epoch [16/30], Loss: 0.4778, Val Accuracy: 0.5041\n",
      "Epoch [17/30], Loss: 0.4599, Val Accuracy: 0.4472\n",
      "Epoch [18/30], Loss: 0.4302, Val Accuracy: 0.4634\n",
      "Epoch [19/30], Loss: 0.4014, Val Accuracy: 0.4959\n",
      "Epoch [20/30], Loss: 0.3817, Val Accuracy: 0.4228\n",
      "Epoch [21/30], Loss: 0.3595, Val Accuracy: 0.4797\n",
      "Epoch [22/30], Loss: 0.3197, Val Accuracy: 0.4634\n",
      "Epoch [23/30], Loss: 0.2914, Val Accuracy: 0.4309\n",
      "Epoch [24/30], Loss: 0.2785, Val Accuracy: 0.4959\n",
      "Epoch [25/30], Loss: 0.2753, Val Accuracy: 0.4065\n",
      "Epoch [26/30], Loss: 0.2534, Val Accuracy: 0.4472\n",
      "Epoch [27/30], Loss: 0.1999, Val Accuracy: 0.4959\n",
      "Epoch [28/30], Loss: 0.2234, Val Accuracy: 0.4309\n",
      "Epoch [29/30], Loss: 0.2028, Val Accuracy: 0.4553\n",
      "Epoch [30/30], Loss: 0.1565, Val Accuracy: 0.4797\n"
     ]
    }
   ],
   "source": [
    "import numpy as np\n",
    "import random\n",
    "criterion = nn.BCELoss()\n",
    "optimizer = optim.Adam(model.parameters(), lr=0.001)\n",
    "num_epochs = 30\n",
    "acc3=[]\n",
    "for epoch in range(num_epochs):\n",
    "    model.train()  # 设置为训练模式\n",
    "    optimizer.zero_grad()\n",
    "    \n",
    "    # 前向传播\n",
    "    outputs = model(X_train)\n",
    "    loss = criterion(outputs, y_train.view(-1, 1).float())\n",
    "    \n",
    "    # 反向传播和优化\n",
    "    loss.backward()\n",
    "    optimizer.step()\n",
    "    model.eval()  # 设置为评估模式\n",
    "    with torch.no_grad():  # 不计算梯度\n",
    "        val_outputs = model(X_val)  # 在验证集上进行前向传播\n",
    "        val_predicted = (val_outputs >= 0.5).float()  # 将输出转换为0或1的预测\n",
    "        correct_predictions = (val_predicted.view(-1) == y_val).sum().item()  # 计算正确预测的数量\n",
    "        val_accuracy = correct_predictions / y_val.size(0)  # 计算验证集的准确率\n",
    "        acc3.append(val_accuracy)\n",
    "    #if (epoch + 1) % 10 == 0:\n",
    "    print(f'Epoch [{epoch + 1}/{num_epochs}], Loss: {loss.item():.4f}, Val Accuracy: {val_accuracy:.4f}')"
   ]
  },
  {
   "cell_type": "code",
   "execution_count": 323,
   "id": "47a1e7a1-8609-4a42-b0b9-14f209bf0104",
   "metadata": {},
   "outputs": [
    {
     "name": "stdout",
     "output_type": "stream",
     "text": [
      "Validation Accuracy: 47.97%\n",
      "Validation F1 Score: 0.5224\n"
     ]
    }
   ],
   "source": [
    "from sklearn.metrics import f1_score\n",
    "with torch.no_grad():\n",
    "    val_outputs = model(X_val)\n",
    "    val_predictions = (val_outputs >= 0.5).float()  # 预测类别\n",
    "    val_accuracy = (val_predictions.view(-1) == y_val).float().mean()  # 计算准确率\n",
    "    print(f'Validation Accuracy: {val_accuracy.item() * 100:.2f}%')\n",
    "    val_predictions_np = val_predictions.cpu().numpy().flatten()\n",
    "    y_val_np = y_val.cpu().numpy().flatten()\n",
    "    # 计算 F1 分数\n",
    "    val_f1 = f1_score(y_val_np, val_predictions_np)\n",
    "    print(f'Validation F1 Score: {val_f1:.4f}')"
   ]
  },
  {
   "cell_type": "code",
   "execution_count": 324,
   "id": "d3e91689-e5d3-41a2-809b-60dc035d33ad",
   "metadata": {},
   "outputs": [
    {
     "name": "stdout",
     "output_type": "stream",
     "text": [
      "Validation Accuracy: 50.00%\n",
      "Validation F1 Score: 0.5526\n"
     ]
    }
   ],
   "source": [
    "with torch.no_grad():\n",
    "    val_outputs = model(X_test)\n",
    "    val_predictions = (val_outputs >= 0.5).float()  # 预测类别\n",
    "    val_accuracy = (val_predictions.view(-1) == y_test).float().mean()  # 计算准确率\n",
    "    print(f'Validation Accuracy: {val_accuracy.item() * 100:.2f}%')\n",
    "    val_predictions_np = val_predictions.cpu().numpy().flatten()\n",
    "    y_test_np = y_test.cpu().numpy().flatten()\n",
    "    # 计算 F1 分数\n",
    "    val_f1 = f1_score(y_test_np, val_predictions_np)\n",
    "    print(f'Validation F1 Score: {val_f1:.4f}')"
   ]
  },
  {
   "cell_type": "code",
   "execution_count": 139,
   "id": "e37b8027-8697-4cf7-922d-e9cf913fb95b",
   "metadata": {},
   "outputs": [],
   "source": [
    "import pandas as pd\n",
    "loss_df = pd.DataFrame({\n",
    "    \"Accuracy_fusion1\": acc,\n",
    "    'Acc2':acc1,\n",
    "    'Acc3':acc2,\n",
    "    'Acc4':acc3\n",
    "})\n",
    "loss_df.to_csv(\"Accuracy.csv\", index=False)"
   ]
  },
  {
   "cell_type": "code",
   "execution_count": null,
   "id": "40d91f2e-5aa7-454c-b86d-283d8b2c8766",
   "metadata": {},
   "outputs": [],
   "source": []
  }
 ],
 "metadata": {
  "kernelspec": {
   "display_name": "Python 3 (ipykernel)",
   "language": "python",
   "name": "python3"
  },
  "language_info": {
   "codemirror_mode": {
    "name": "ipython",
    "version": 3
   },
   "file_extension": ".py",
   "mimetype": "text/x-python",
   "name": "python",
   "nbconvert_exporter": "python",
   "pygments_lexer": "ipython3",
   "version": "3.12.0"
  }
 },
 "nbformat": 4,
 "nbformat_minor": 5
}
